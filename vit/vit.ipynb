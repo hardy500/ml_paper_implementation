{
 "cells": [
  {
   "cell_type": "code",
   "execution_count": 2,
   "id": "c79b4b63",
   "metadata": {},
   "outputs": [],
   "source": [
    "import matplotlib.pyplot as plt\n",
    "import torch\n",
    "from torch import nn, optim"
   ]
  },
  {
   "cell_type": "code",
   "execution_count": 14,
   "id": "ae8b98bc",
   "metadata": {},
   "outputs": [],
   "source": [
    "%run -i data_setup.py\n",
    "%run -i model.py\n",
    "%run -i engine.py"
   ]
  },
  {
   "cell_type": "code",
   "execution_count": 3,
   "id": "e1d80cd9",
   "metadata": {
    "scrolled": true
   },
   "outputs": [
    {
     "data": {
      "application/vnd.jupyter.widget-view+json": {
       "model_id": "7de68ca7afd84c59a83bc17c36c5a3bd",
       "version_major": 2,
       "version_minor": 0
      },
      "text/plain": [
       "  0%|          | 0/1 [00:00<?, ?it/s]"
      ]
     },
     "metadata": {},
     "output_type": "display_data"
    },
    {
     "name": "stdout",
     "output_type": "stream",
     "text": [
      "Epoch: 1 | train_loss: 4.5088 | train_acc: 0.3750 | test_loss: 3.2733 | test_acc: 0.2604\n"
     ]
    }
   ],
   "source": [
    "model = ViT(D, num_classes=len(class_names))\n",
    "optimizer = optim.Adam(model.parameters(), lr=1e-3, weight_decay=0.1)\n",
    "loss_fn = nn.CrossEntropyLoss()\n",
    "\n",
    "torch.manual_seed(42)\n",
    "torch.cuda.manual_seed(42)\n",
    "\n",
    "results = train(model, train_dl, test_dl, optimizer, loss_fn, epochs=1, device='cpu')"
   ]
  },
  {
   "cell_type": "code",
   "execution_count": 11,
   "id": "65788b50",
   "metadata": {},
   "outputs": [],
   "source": [
    "train_dl, test_dl, class_names = load_data(auto_transform)"
   ]
  },
  {
   "cell_type": "code",
   "execution_count": null,
   "id": "1431c167",
   "metadata": {},
   "outputs": [],
   "source": []
  },
  {
   "cell_type": "code",
   "execution_count": null,
   "id": "517c219e",
   "metadata": {},
   "outputs": [],
   "source": []
  },
  {
   "cell_type": "code",
   "execution_count": null,
   "id": "781a39ca",
   "metadata": {},
   "outputs": [],
   "source": []
  },
  {
   "cell_type": "code",
   "execution_count": null,
   "id": "5ac260b7",
   "metadata": {},
   "outputs": [],
   "source": []
  },
  {
   "cell_type": "code",
   "execution_count": null,
   "id": "09805f8c",
   "metadata": {},
   "outputs": [],
   "source": []
  },
  {
   "cell_type": "code",
   "execution_count": null,
   "id": "2d3135e7",
   "metadata": {},
   "outputs": [],
   "source": []
  }
 ],
 "metadata": {
  "kernelspec": {
   "display_name": "Python 3",
   "language": "python",
   "name": "python3"
  },
  "language_info": {
   "codemirror_mode": {
    "name": "ipython",
    "version": 3
   },
   "file_extension": ".py",
   "mimetype": "text/x-python",
   "name": "python",
   "nbconvert_exporter": "python",
   "pygments_lexer": "ipython3",
   "version": "3.10.2"
  }
 },
 "nbformat": 4,
 "nbformat_minor": 5
}
